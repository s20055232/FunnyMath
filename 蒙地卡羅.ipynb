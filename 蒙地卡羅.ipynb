{
 "cells": [
  {
   "cell_type": "code",
   "execution_count": 2,
   "metadata": {},
   "outputs": [],
   "source": [
    "import tqdm\n",
    "import numpy as np\n",
    "from collections import Counter"
   ]
  },
  {
   "cell_type": "code",
   "execution_count": 3,
   "metadata": {},
   "outputs": [],
   "source": [
    "class Monte(object):\n",
    "    def monte(self, total: int, times: int, serial: int) -> float:\n",
    "        index = [x for x in range(1, total+1)]\n",
    "        draw = np.random.choice(index, size=times, replace=False, p=None)\n",
    "        draw.sort()\n",
    "        #print(draw)\n",
    "        return self.serial(draw, serial)\n",
    "        \n",
    "    def serial(self, draw, serial):\n",
    "        count = 0\n",
    "        for i in range(len(draw)):\n",
    "            if draw[i]+1 in draw:\n",
    "                count += 1\n",
    "                if count == serial-1:\n",
    "                    return True\n",
    "            else:\n",
    "                count = 0\n",
    "        return False"
   ]
  },
  {
   "cell_type": "code",
   "execution_count": 4,
   "metadata": {},
   "outputs": [
    {
     "name": "stderr",
     "output_type": "stream",
     "text": [
      "100%|██████████| 1000000/1000000 [1:16:55<00:00, 216.65it/s] \n"
     ]
    },
    {
     "name": "stdout",
     "output_type": "stream",
     "text": [
      "Counter({False: 991832, True: 8168})\n",
      "根據蒙地卡羅計算出的機率為0.008168\n"
     ]
    }
   ],
   "source": [
    "times = 1000000\n",
    "stat = []\n",
    "for i in tqdm.tqdm(range(times)):\n",
    "    stat.append(Monte().monte(1138,514,14))\n",
    "count = Counter(stat)\n",
    "print(count)\n",
    "print(f\"根據蒙地卡羅計算出的機率為{count[True]/times}\")"
   ]
  },
  {
   "cell_type": "code",
   "execution_count": null,
   "metadata": {},
   "outputs": [],
   "source": []
  }
 ],
 "metadata": {
  "kernelspec": {
   "display_name": "Python 3",
   "language": "python",
   "name": "python3"
  },
  "language_info": {
   "codemirror_mode": {
    "name": "ipython",
    "version": 3
   },
   "file_extension": ".py",
   "mimetype": "text/x-python",
   "name": "python",
   "nbconvert_exporter": "python",
   "pygments_lexer": "ipython3",
   "version": "3.7.4"
  }
 },
 "nbformat": 4,
 "nbformat_minor": 4
}

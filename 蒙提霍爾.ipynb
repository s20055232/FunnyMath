{
 "cells": [
  {
   "cell_type": "markdown",
   "metadata": {},
   "source": [
    "# 透過python實證[蒙提霍爾問題](https://zh.wikipedia.org/wiki/%E8%92%99%E6%8F%90%E9%9C%8D%E7%88%BE%E5%95%8F%E9%A1%8C)"
   ]
  },
  {
   "cell_type": "code",
   "execution_count": 1,
   "metadata": {},
   "outputs": [],
   "source": [
    "# 將圖繪製到jupyter裡面\n",
    "%matplotlib inline\n",
    "\n",
    "# 隨機生成數字\n",
    "# 種子儲存隨機結果\n",
    "from random import randint, seed\n",
    "\n",
    "# An Enum is a data structure that consists of a \n",
    "# set of appointed elements. This type of variable can be\n",
    "# have as value one of these elements.\n",
    "from enum import Enum\n",
    "\n",
    "# For displaying graphs:\n",
    "import matplotlib.pyplot as plt"
   ]
  },
  {
   "cell_type": "code",
   "execution_count": 2,
   "metadata": {},
   "outputs": [],
   "source": [
    "class Strategy(Enum) :\n",
    "    CHANGE = 1\n",
    "    KEEP = 2"
   ]
  },
  {
   "cell_type": "code",
   "execution_count": 3,
   "metadata": {},
   "outputs": [],
   "source": [
    "# Uses the system clock to initialize the generator of \n",
    "# pseudo-random numbers.\n",
    "seed() \n",
    "\n",
    "def Hall_game(strategy) :\n",
    "    ''' Simulates part of the Monty Hall game. This function simulates the participant's choice of door, the elimination of a bad door by the presenter, and the final choice. It only returns the result of the game, because that we will only need the result to perform our calculations.\n",
    "    \n",
    "    Args:\n",
    "        strategy (strategy) : The player's strategy\n",
    "        \n",
    "    Returns:\n",
    "        bool: Has the player won?\n",
    " '''\n",
    "    doors =[0, 1, 2]\n",
    "    \n",
    "    good_door = randint(0,2) \n",
    "    \n",
    "    # Choice of player\n",
    "    first_choice = randint(0,2) \n",
    "    \n",
    "    # We have two doors left\n",
    "    doors.remove(first_choice) \n",
    "    \n",
    "    # The presenter eliminates a door\n",
    "    if first_choice == good_door:\n",
    "        doors.remove(doors[randint(0,1) ]) \n",
    "    else:\n",
    "        doors =[good_door]\n",
    "    \n",
    "    second_choice = 0\n",
    "    # The second choice depends on the strategy\n",
    "    if strategy == Strategy.CHANGE:\n",
    "        second_choice = doors[0]\n",
    "    elif strategy == Strategy.KEEP:\n",
    "        second_choice = first_choice\n",
    "    else:\n",
    "        raise ValueError(\"Strategy not recognized!\") \n",
    "    \n",
    "    return second_choice == good_door"
   ]
  },
  {
   "cell_type": "code",
   "execution_count": 4,
   "metadata": {},
   "outputs": [
    {
     "data": {
      "text/plain": [
       "True"
      ]
     },
     "execution_count": 4,
     "metadata": {},
     "output_type": "execute_result"
    }
   ],
   "source": [
    "strategy = Strategy.CHANGE\n",
    "Hall_game(strategy)"
   ]
  },
  {
   "cell_type": "code",
   "execution_count": 5,
   "metadata": {},
   "outputs": [],
   "source": [
    "\n",
    "def Play(strategy, nb_turns) :\n",
    "    '''Simulates a sequence of game turns. This function returns the results of several games of the Monty Hall game in the form of a list of winnings by the player.\n",
    "    \n",
    "    Args:\n",
    "        strategy (strategy) : The player's strategy\n",
    "        nb_turns (int) : Number of revolutions\n",
    "        \n",
    "    Returns:\n",
    "        list: List of players' winnings for each game\n",
    "    '''\n",
    "\n",
    "    return [1 if Hall_game(strategy) else 0 for i in range(nb_turns) ]"
   ]
  },
  {
   "cell_type": "code",
   "execution_count": 6,
   "metadata": {},
   "outputs": [
    {
     "name": "stdout",
     "output_type": "stream",
     "text": [
      "By changing doors, the player has won 6680 on 10,000 games.\n",
      "By keeping his initial choice, the player has won 3332 out of 10,000 games.\n"
     ]
    }
   ],
   "source": [
    "# 重複玩一萬次，證明換門是對的\n",
    "print(\"By changing doors, the player has won {} on 10,000 games.\"\n",
    "      .format(sum(Play(Strategy.CHANGE, 10000) )) )\n",
    "      \n",
    "print(\"By keeping his initial choice, the player has won {} out of 10,000 games.\"\n",
    "      .format(sum(Play(Strategy.KEEP, 10000) )) )"
   ]
  },
  {
   "cell_type": "code",
   "execution_count": null,
   "metadata": {},
   "outputs": [],
   "source": []
  }
 ],
 "metadata": {
  "kernelspec": {
   "display_name": "Python 3",
   "language": "python",
   "name": "python3"
  },
  "language_info": {
   "codemirror_mode": {
    "name": "ipython",
    "version": 3
   },
   "file_extension": ".py",
   "mimetype": "text/x-python",
   "name": "python",
   "nbconvert_exporter": "python",
   "pygments_lexer": "ipython3",
   "version": "3.8.0"
  }
 },
 "nbformat": 4,
 "nbformat_minor": 4
}
